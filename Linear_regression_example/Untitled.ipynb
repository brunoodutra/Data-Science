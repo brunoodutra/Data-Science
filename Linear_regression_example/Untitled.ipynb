{
 "cells": [
  {
   "cell_type": "markdown",
   "metadata": {},
   "source": [
    "#Example of linear regression"
   ]
  },
  {
   "cell_type": "code",
   "execution_count": 1,
   "metadata": {},
   "outputs": [],
   "source": [
    "import matplotlib.pyplot as plt\n",
    "import pandas as pd\n",
    "import numpy as np\n",
    "from sklearn.linear_model import LinearRegression\n",
    "import plotly.express as px"
   ]
  },
  {
   "cell_type": "code",
   "execution_count": 2,
   "metadata": {},
   "outputs": [],
   "source": [
    "csv_file ='factbook.csv'"
   ]
  },
  {
   "cell_type": "code",
   "execution_count": 3,
   "metadata": {},
   "outputs": [
    {
     "data": {
      "text/html": [
       "<div>\n",
       "<style scoped>\n",
       "    .dataframe tbody tr th:only-of-type {\n",
       "        vertical-align: middle;\n",
       "    }\n",
       "\n",
       "    .dataframe tbody tr th {\n",
       "        vertical-align: top;\n",
       "    }\n",
       "\n",
       "    .dataframe thead th {\n",
       "        text-align: right;\n",
       "    }\n",
       "</style>\n",
       "<table border=\"1\" class=\"dataframe\">\n",
       "  <thead>\n",
       "    <tr style=\"text-align: right;\">\n",
       "      <th></th>\n",
       "      <th>Country</th>\n",
       "      <th>Area(sq km)</th>\n",
       "      <th>Birth rate(births/1000 population)</th>\n",
       "      <th>Current account balance</th>\n",
       "      <th>Death rate(deaths/1000 population)</th>\n",
       "      <th>Debt - external</th>\n",
       "      <th>Electricity - consumption(kWh)</th>\n",
       "      <th>Electricity - production(kWh)</th>\n",
       "      <th>Exports</th>\n",
       "      <th>GDP</th>\n",
       "      <th>...</th>\n",
       "      <th>Oil - production(bbl/day)</th>\n",
       "      <th>Oil - proved reserves(bbl)</th>\n",
       "      <th>Population</th>\n",
       "      <th>Public debt(% of GDP)</th>\n",
       "      <th>Railways(km)</th>\n",
       "      <th>Reserves of foreign exchange &amp; gold</th>\n",
       "      <th>Telephones - main lines in use</th>\n",
       "      <th>Telephones - mobile cellular</th>\n",
       "      <th>Total fertility rate(children born/woman)</th>\n",
       "      <th>Unemployment rate(%)</th>\n",
       "    </tr>\n",
       "  </thead>\n",
       "  <tbody>\n",
       "    <tr>\n",
       "      <th>0</th>\n",
       "      <td>String</td>\n",
       "      <td>double</td>\n",
       "      <td>double</td>\n",
       "      <td>double</td>\n",
       "      <td>double</td>\n",
       "      <td>double</td>\n",
       "      <td>double</td>\n",
       "      <td>double</td>\n",
       "      <td>double</td>\n",
       "      <td>double</td>\n",
       "      <td>...</td>\n",
       "      <td>double</td>\n",
       "      <td>double</td>\n",
       "      <td>double</td>\n",
       "      <td>double</td>\n",
       "      <td>double</td>\n",
       "      <td>double</td>\n",
       "      <td>double</td>\n",
       "      <td>double</td>\n",
       "      <td>double</td>\n",
       "      <td>double</td>\n",
       "    </tr>\n",
       "    <tr>\n",
       "      <th>16</th>\n",
       "      <td>Austria</td>\n",
       "      <td>83870</td>\n",
       "      <td>8.81</td>\n",
       "      <td>-3283000000</td>\n",
       "      <td>9.70</td>\n",
       "      <td>15500000000</td>\n",
       "      <td>55090000000</td>\n",
       "      <td>58490000000</td>\n",
       "      <td>102700000000</td>\n",
       "      <td>255900000000</td>\n",
       "      <td>...</td>\n",
       "      <td>20670</td>\n",
       "      <td>85690000</td>\n",
       "      <td>8184691</td>\n",
       "      <td>64.20</td>\n",
       "      <td>6021</td>\n",
       "      <td>12730000000</td>\n",
       "      <td>3881000</td>\n",
       "      <td>7094500</td>\n",
       "      <td>1.36</td>\n",
       "      <td>4.40</td>\n",
       "    </tr>\n",
       "    <tr>\n",
       "      <th>49</th>\n",
       "      <td>Chile</td>\n",
       "      <td>756950</td>\n",
       "      <td>15.44</td>\n",
       "      <td>2185000000</td>\n",
       "      <td>5.76</td>\n",
       "      <td>44600000000</td>\n",
       "      <td>41800000000</td>\n",
       "      <td>48600000000</td>\n",
       "      <td>29200000000</td>\n",
       "      <td>169100000000</td>\n",
       "      <td>...</td>\n",
       "      <td>18500</td>\n",
       "      <td>150000000</td>\n",
       "      <td>15980912</td>\n",
       "      <td>12.80</td>\n",
       "      <td>6585</td>\n",
       "      <td>16020000000</td>\n",
       "      <td>3467000</td>\n",
       "      <td>6445700</td>\n",
       "      <td>2.02</td>\n",
       "      <td>8.50</td>\n",
       "    </tr>\n",
       "    <tr>\n",
       "      <th>50</th>\n",
       "      <td>China</td>\n",
       "      <td>9596960</td>\n",
       "      <td>13.14</td>\n",
       "      <td>30320000000</td>\n",
       "      <td>6.94</td>\n",
       "      <td>233300000000</td>\n",
       "      <td>1630000000000</td>\n",
       "      <td>1910000000000</td>\n",
       "      <td>583100000000</td>\n",
       "      <td>7262000000000</td>\n",
       "      <td>...</td>\n",
       "      <td>3392000</td>\n",
       "      <td>17740000000</td>\n",
       "      <td>1306313812</td>\n",
       "      <td>31.40</td>\n",
       "      <td>70058</td>\n",
       "      <td>609900000000</td>\n",
       "      <td>263000000</td>\n",
       "      <td>269000000</td>\n",
       "      <td>1.72</td>\n",
       "      <td>9.80</td>\n",
       "    </tr>\n",
       "    <tr>\n",
       "      <th>64</th>\n",
       "      <td>Czech Republic</td>\n",
       "      <td>78866</td>\n",
       "      <td>9.07</td>\n",
       "      <td>-5730000000</td>\n",
       "      <td>10.54</td>\n",
       "      <td>36280000000</td>\n",
       "      <td>55330000000</td>\n",
       "      <td>71750000000</td>\n",
       "      <td>66510000000</td>\n",
       "      <td>172200000000</td>\n",
       "      <td>...</td>\n",
       "      <td>7419</td>\n",
       "      <td>17250000</td>\n",
       "      <td>10241138</td>\n",
       "      <td>33.50</td>\n",
       "      <td>9520</td>\n",
       "      <td>32780000000</td>\n",
       "      <td>3626000</td>\n",
       "      <td>9708700</td>\n",
       "      <td>1.20</td>\n",
       "      <td>10.60</td>\n",
       "    </tr>\n",
       "  </tbody>\n",
       "</table>\n",
       "<p>5 rows × 45 columns</p>\n",
       "</div>"
      ],
      "text/plain": [
       "           Country Area(sq km) Birth rate(births/1000 population)  \\\n",
       "0           String      double                             double   \n",
       "16         Austria       83870                               8.81   \n",
       "49           Chile      756950                              15.44   \n",
       "50           China     9596960                              13.14   \n",
       "64  Czech Republic       78866                               9.07   \n",
       "\n",
       "   Current account balance Death rate(deaths/1000 population) Debt - external  \\\n",
       "0                   double                             double          double   \n",
       "16             -3283000000                               9.70     15500000000   \n",
       "49              2185000000                               5.76     44600000000   \n",
       "50             30320000000                               6.94    233300000000   \n",
       "64             -5730000000                              10.54     36280000000   \n",
       "\n",
       "   Electricity - consumption(kWh) Electricity - production(kWh)       Exports  \\\n",
       "0                          double                        double        double   \n",
       "16                    55090000000                   58490000000  102700000000   \n",
       "49                    41800000000                   48600000000   29200000000   \n",
       "50                  1630000000000                 1910000000000  583100000000   \n",
       "64                    55330000000                   71750000000   66510000000   \n",
       "\n",
       "              GDP  ... Oil - production(bbl/day) Oil - proved reserves(bbl)  \\\n",
       "0          double  ...                    double                     double   \n",
       "16   255900000000  ...                     20670                   85690000   \n",
       "49   169100000000  ...                     18500                  150000000   \n",
       "50  7262000000000  ...                   3392000                17740000000   \n",
       "64   172200000000  ...                      7419                   17250000   \n",
       "\n",
       "    Population Public debt(% of GDP) Railways(km)  \\\n",
       "0       double                double       double   \n",
       "16     8184691                 64.20         6021   \n",
       "49    15980912                 12.80         6585   \n",
       "50  1306313812                 31.40        70058   \n",
       "64    10241138                 33.50         9520   \n",
       "\n",
       "   Reserves of foreign exchange & gold Telephones - main lines in use  \\\n",
       "0                               double                         double   \n",
       "16                         12730000000                        3881000   \n",
       "49                         16020000000                        3467000   \n",
       "50                        609900000000                      263000000   \n",
       "64                         32780000000                        3626000   \n",
       "\n",
       "   Telephones - mobile cellular Total fertility rate(children born/woman)  \\\n",
       "0                        double                                    double   \n",
       "16                      7094500                                      1.36   \n",
       "49                      6445700                                      2.02   \n",
       "50                    269000000                                      1.72   \n",
       "64                      9708700                                      1.20   \n",
       "\n",
       "   Unemployment rate(%)  \n",
       "0                double  \n",
       "16                 4.40  \n",
       "49                 8.50  \n",
       "50                 9.80  \n",
       "64                10.60  \n",
       "\n",
       "[5 rows x 45 columns]"
      ]
     },
     "execution_count": 3,
     "metadata": {},
     "output_type": "execute_result"
    }
   ],
   "source": [
    "datalog=pd.read_csv(csv_file,';')\n",
    "    # drop all rows with any NaN and NaT values\n",
    "datalog = datalog.dropna()\n",
    "datalog.head()"
   ]
  },
  {
   "cell_type": "code",
   "execution_count": 9,
   "metadata": {},
   "outputs": [
    {
     "data": {
      "text/plain": [
       "16     31300\n",
       "49     10700\n",
       "50      5600\n",
       "64     16800\n",
       "65     32200\n",
       "96     21300\n",
       "112    14900\n",
       "115     3500\n",
       "118    31900\n",
       "120    27700\n",
       "127     4500\n",
       "129     7800\n",
       "160     9600\n",
       "176    23200\n",
       "192     5000\n",
       "194    12000\n",
       "222    23300\n",
       "249    29600\n",
       "Name: GDP - per capita, dtype: int64"
      ]
     },
     "execution_count": 9,
     "metadata": {},
     "output_type": "execute_result"
    }
   ],
   "source": [
    "GDP=datalog['GDP - per capita']\n",
    "x=pd.to_numeric(GDP[1:], errors='coerce') # numeric vector\n",
    "x"
   ]
  },
  {
   "cell_type": "code",
   "execution_count": 10,
   "metadata": {},
   "outputs": [
    {
     "data": {
      "text/plain": [
       "16     78.92\n",
       "49     76.58\n",
       "50     72.27\n",
       "64     76.02\n",
       "65     77.62\n",
       "96     79.09\n",
       "112    72.40\n",
       "115    69.57\n",
       "118    77.56\n",
       "120    79.68\n",
       "127    78.24\n",
       "129    66.55\n",
       "160    75.19\n",
       "176    78.66\n",
       "192    69.91\n",
       "194    74.41\n",
       "222    79.52\n",
       "249    78.38\n",
       "Name: Life expectancy at birth(years), dtype: float64"
      ]
     },
     "execution_count": 10,
     "metadata": {},
     "output_type": "execute_result"
    }
   ],
   "source": [
    "file_exp=datalog[\"Life expectancy at birth(years)\"]\n",
    "y=pd.to_numeric(file_exp[1:], errors='coerce')\n",
    "y"
   ]
  },
  {
   "cell_type": "markdown",
   "metadata": {},
   "source": [
    "Linear regression (y= a*x + b) ~= (y= [x 1] * [a ; b])  ~= (y= phi * theta)"
   ]
  },
  {
   "cell_type": "code",
   "execution_count": 11,
   "metadata": {},
   "outputs": [
    {
     "data": {
      "text/plain": [
       "array([[3.13e+04, 1.00e+00],\n",
       "       [1.07e+04, 1.00e+00],\n",
       "       [5.60e+03, 1.00e+00],\n",
       "       [1.68e+04, 1.00e+00],\n",
       "       [3.22e+04, 1.00e+00],\n",
       "       [2.13e+04, 1.00e+00],\n",
       "       [1.49e+04, 1.00e+00],\n",
       "       [3.50e+03, 1.00e+00],\n",
       "       [3.19e+04, 1.00e+00],\n",
       "       [2.77e+04, 1.00e+00],\n",
       "       [4.50e+03, 1.00e+00],\n",
       "       [7.80e+03, 1.00e+00],\n",
       "       [9.60e+03, 1.00e+00],\n",
       "       [2.32e+04, 1.00e+00],\n",
       "       [5.00e+03, 1.00e+00],\n",
       "       [1.20e+04, 1.00e+00],\n",
       "       [2.33e+04, 1.00e+00],\n",
       "       [2.96e+04, 1.00e+00]])"
      ]
     },
     "execution_count": 11,
     "metadata": {},
     "output_type": "execute_result"
    }
   ],
   "source": [
    " phi= np.array([x, np.ones(len(x))]).T #(phi = [x 1])\n",
    " phi"
   ]
  },
  {
   "cell_type": "markdown",
   "metadata": {},
   "source": [
    "Least Squares algorithm: theta= inv(PHI' * PHI) * PHI' * y"
   ]
  },
  {
   "cell_type": "code",
   "execution_count": 12,
   "metadata": {},
   "outputs": [
    {
     "data": {
      "text/plain": [
       "array([2.66452805e-04, 7.09849902e+01])"
      ]
     },
     "execution_count": 12,
     "metadata": {},
     "output_type": "execute_result"
    }
   ],
   "source": [
    "theta= np.linalg.inv(phi.T.dot(phi)).dot(phi.T).dot(y) # theta= [a;b]\n",
    "theta"
   ]
  },
  {
   "cell_type": "code",
   "execution_count": 27,
   "metadata": {},
   "outputs": [
    {
     "data": {
      "text/plain": [
       "16     79.324963\n",
       "49     73.836035\n",
       "50     72.477126\n",
       "64     75.461397\n",
       "65     79.564770\n",
       "96     76.660435\n",
       "112    74.955137\n",
       "115    71.917575\n",
       "118    79.484835\n",
       "120    78.365733\n",
       "127    72.184028\n",
       "129    73.063322\n",
       "160    73.542937\n",
       "176    77.166695\n",
       "192    72.317254\n",
       "194    74.182424\n",
       "222    77.193341\n",
       "249    78.871993\n",
       "Name: GDP - per capita, dtype: float64"
      ]
     },
     "execution_count": 27,
     "metadata": {},
     "output_type": "execute_result"
    }
   ],
   "source": [
    "a=theta[0]\n",
    "b=theta[1]\n",
    "y_est= a*x + b\n",
    "y_est\n",
    "#y_est= phi.dot(theta)"
   ]
  },
  {
   "cell_type": "markdown",
   "metadata": {},
   "source": [
    "Results "
   ]
  },
  {
   "cell_type": "code",
   "execution_count": 28,
   "metadata": {},
   "outputs": [
    {
     "data": {
      "image/png": "[encoded data removed]",
      "text/plain": [
       "<Figure size 432x288 with 1 Axes>"
      ]
     },
     "metadata": {
      "needs_background": "light"
     },
     "output_type": "display_data"
    }
   ],
   "source": [
    "fig, ax = plt.subplots()\n",
    "ax.plot(x,y_est)\n",
    "ax.plot(x,y,'.')\n",
    "ax.set_xlabel(\"GDP - per capita\")\n",
    "ax.set_ylabel(\"Life expectancy at birth(years)\")\n",
    "plt.show()"
   ]
  },
  {
   "cell_type": "code",
   "execution_count": null,
   "metadata": {},
   "outputs": [],
   "source": []
  }
 ],
 "metadata": {
  "kernelspec": {
   "display_name": "Python 3",
   "language": "python",
   "name": "python3"
  },
  "language_info": {
   "codemirror_mode": {
    "name": "ipython",
    "version": 3
   },
   "file_extension": ".py",
   "mimetype": "text/x-python",
   "name": "python",
   "nbconvert_exporter": "python",
   "pygments_lexer": "ipython3",
   "version": "3.8.5"
  }
 },
 "nbformat": 4,
 "nbformat_minor": 4
}
